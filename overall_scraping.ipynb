{
 "cells": [
  {
   "cell_type": "code",
   "execution_count": 48,
   "metadata": {},
   "outputs": [],
   "source": [
    "import requests\n",
    "from bs4 import BeautifulSoup\n",
    "import pandas as pd"
   ]
  },
  {
   "cell_type": "code",
   "execution_count": 50,
   "metadata": {},
   "outputs": [
    {
     "name": "stdout",
     "output_type": "stream",
     "text": [
      "The website has been successfully brought.\n"
     ]
    }
   ],
   "source": [
    "url = 'https://loyolagreyhounds.com/sports/womens-basketball/stats/2022-23'\n",
    "response = requests.get(url)\n",
    "\n",
    "if response.status_code == 200:\n",
    "    html_content = response.content\n",
    "    print(\"The website has been successfully brought.\")\n",
    "else:\n",
    "    print(\"Failed to fetch the website.\")"
   ]
  },
  {
   "cell_type": "code",
   "execution_count": 22,
   "metadata": {},
   "outputs": [],
   "source": [
    "soup = BeautifulSoup(html_content,'html')\n",
    "main = soup.find('main',class_='main-content-placeholder')\n",
    "overall = main.find('section',id='individual-overall')\n",
    "table = overall.find('table','sidearm-table')\n",
    "table_head = table.find('thead')\n",
    "headers_label = table_head.find_all('tr')[0]\n",
    "headers_column = table_head.find_all('tr')[1]"
   ]
  },
  {
   "cell_type": "code",
   "execution_count": 63,
   "metadata": {},
   "outputs": [
    {
     "name": "stdout",
     "output_type": "stream",
     "text": [
      "Column Group Header: # - Colspan Value: 1\n",
      "Column Group Header: Player - Colspan Value: 1\n",
      "Column Group Header: GP - Colspan Value: 1\n",
      "Column Group Header: GS - Colspan Value: 1\n",
      "Column Group Header: Minutes - Colspan Value: 2\n",
      "Column Group Header: FG - Colspan Value: 3\n",
      "Column Group Header: 3PT - Colspan Value: 3\n",
      "Column Group Header: FT - Colspan Value: 3\n",
      "Column Group Header: Scoring - Colspan Value: 2\n",
      "Column Group Header: Rebounds - Colspan Value: 4\n",
      "Column Group Header: PF - Colspan Value: 1\n",
      "Column Group Header: AST - Colspan Value: 1\n",
      "Column Group Header: TO - Colspan Value: 1\n",
      "Column Group Header: STL - Colspan Value: 1\n",
      "Column Group Header: BLK - Colspan Value: 1\n",
      "Column Group Header: Bio Link - Colspan Value: 1\n"
     ]
    }
   ],
   "source": [
    "dict_colspan = {}\n",
    "index = 0\n",
    "colspan_headers = headers_label.find_all(\"th\")\n",
    "\n",
    "for header in colspan_headers:\n",
    "    colspan_value = int(header.get(\"colspan\", 1)) #if header dont have a colspan, colspan_value get 1 - \n",
    "    header_text = header.get_text()\n",
    "    print(\"Column Group Header:\", header_text, \"- Colspan Value:\", colspan_value)\n",
    "    dict_colspan[header_text] = colspan_value\n",
    "    \n",
    "    "
   ]
  },
  {
   "cell_type": "code",
   "execution_count": 74,
   "metadata": {},
   "outputs": [
    {
     "data": {
      "text/plain": [
       "[<th scope=\"col\">TOT</th>,\n",
       " <th scope=\"col\">AVG</th>,\n",
       " <th scope=\"col\">FGM</th>,\n",
       " <th scope=\"col\">FGA</th>,\n",
       " <th scope=\"col\">FG%</th>,\n",
       " <th scope=\"col\">3PT</th>,\n",
       " <th scope=\"col\">3PTA</th>,\n",
       " <th scope=\"col\">3PT%</th>,\n",
       " <th scope=\"col\">FTM</th>,\n",
       " <th scope=\"col\">FTA</th>,\n",
       " <th scope=\"col\">FT%</th>,\n",
       " <th scope=\"col\">PTS</th>,\n",
       " <th scope=\"col\">AVG</th>,\n",
       " <th scope=\"col\">OFF</th>,\n",
       " <th scope=\"col\">DEF</th>,\n",
       " <th scope=\"col\">TOT</th>,\n",
       " <th scope=\"col\">AVG</th>]"
      ]
     },
     "execution_count": 74,
     "metadata": {},
     "output_type": "execute_result"
    }
   ],
   "source": [
    "data_headers = headers_column.find_all('th')\n",
    "data_headers"
   ]
  },
  {
   "cell_type": "code",
   "execution_count": 88,
   "metadata": {},
   "outputs": [
    {
     "data": {
      "text/html": [
       "<div>\n",
       "<style scoped>\n",
       "    .dataframe tbody tr th:only-of-type {\n",
       "        vertical-align: middle;\n",
       "    }\n",
       "\n",
       "    .dataframe tbody tr th {\n",
       "        vertical-align: top;\n",
       "    }\n",
       "\n",
       "    .dataframe thead th {\n",
       "        text-align: right;\n",
       "    }\n",
       "</style>\n",
       "<table border=\"1\" class=\"dataframe\">\n",
       "  <thead>\n",
       "    <tr style=\"text-align: right;\">\n",
       "      <th></th>\n",
       "      <th>TOT</th>\n",
       "      <th>AVG</th>\n",
       "      <th>FGM</th>\n",
       "      <th>FGA</th>\n",
       "      <th>FG%_Minutes</th>\n",
       "      <th>3PT_Minutes</th>\n",
       "      <th>3PTA_FG</th>\n",
       "      <th>3PT%_FG</th>\n",
       "      <th>FTM_FG</th>\n",
       "      <th>FTA_3PT</th>\n",
       "      <th>FT%_3PT</th>\n",
       "      <th>PTS_3PT</th>\n",
       "      <th>AVG_FT</th>\n",
       "      <th>OFF_FT</th>\n",
       "      <th>DEF_FT</th>\n",
       "      <th>TOT_Scoring</th>\n",
       "      <th>AVG_Scoring</th>\n",
       "    </tr>\n",
       "  </thead>\n",
       "  <tbody>\n",
       "  </tbody>\n",
       "</table>\n",
       "</div>"
      ],
      "text/plain": [
       "Empty DataFrame\n",
       "Columns: [TOT, AVG, FGM, FGA, FG%_Minutes, 3PT_Minutes, 3PTA_FG, 3PT%_FG, FTM_FG, FTA_3PT, FT%_3PT, PTS_3PT, AVG_FT, OFF_FT, DEF_FT, TOT_Scoring, AVG_Scoring]\n",
       "Index: []"
      ]
     },
     "execution_count": 88,
     "metadata": {},
     "output_type": "execute_result"
    }
   ],
   "source": [
    "index = 0\n",
    "columns_overall = []\n",
    "\n",
    "for span,text in zip(dict_colspan.values(),dict_colspan.keys()):\n",
    "    data = [head.text.strip() + (\"_\"+text if span>1 else \"\") for head in data_headers[index:index+span]]\n",
    "    \n",
    "    \"\"\"\n",
    "    if span > 1:\n",
    "            data.append(head.text.strip())\n",
    "        else:\n",
    "            data.append(head.text.strip() + \"_\" + text)\n",
    "            \n",
    "    \"\"\"\n",
    "    columns_overall.extend(data)  # Yeni verileri ana liste içine ekler\n",
    "    index += span\n",
    "    \n",
    "\n",
    "df_overall = pd.DataFrame(columns=columns_overall)\n",
    "df_overall"
   ]
  },
  {
   "cell_type": "code",
   "execution_count": null,
   "metadata": {},
   "outputs": [],
   "source": []
  }
 ],
 "metadata": {
  "kernelspec": {
   "display_name": "base",
   "language": "python",
   "name": "python3"
  },
  "language_info": {
   "codemirror_mode": {
    "name": "ipython",
    "version": 3
   },
   "file_extension": ".py",
   "mimetype": "text/x-python",
   "name": "python",
   "nbconvert_exporter": "python",
   "pygments_lexer": "ipython3",
   "version": "3.9.12"
  },
  "orig_nbformat": 4
 },
 "nbformat": 4,
 "nbformat_minor": 2
}
